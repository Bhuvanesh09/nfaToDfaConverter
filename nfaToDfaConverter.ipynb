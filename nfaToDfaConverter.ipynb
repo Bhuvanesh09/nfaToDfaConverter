{
 "cells": [
  {
   "cell_type": "markdown",
   "metadata": {},
   "source": [
    "# Automata Theory : Assignment 1\n",
    "## Authored by Bhuvanesh Sridharan\n",
    "## Roll No: 2018113002\n",
    "\n",
    "\n",
    "# Creating a program to convert an NFA into DFA with json files as input and output"
   ]
  },
  {
   "cell_type": "markdown",
   "metadata": {},
   "source": [
    "Including necessary modules:"
   ]
  },
  {
   "cell_type": "code",
   "execution_count": 1,
   "metadata": {},
   "outputs": [],
   "source": [
    "import numpy , json"
   ]
  },
  {
   "cell_type": "markdown",
   "metadata": {},
   "source": [
    "Taking input from the external json file:"
   ]
  },
  {
   "cell_type": "code",
   "execution_count": 3,
   "metadata": {},
   "outputs": [],
   "source": [
    "string = \"\"\"\n",
    "{\n",
    "    \"states\" : 3 ,\n",
    "    \"letters\" : [\"a\",\"b\"],\n",
    "    \"t_func\" : [[0,\"a\",[0,1]],[0,\"b\",[0]],[1,\"b\",[2]]],\n",
    "    \"start\" : 0,\n",
    "    \"final\" : [2]\n",
    "\n",
    "}\n",
    "\"\"\"\n",
    "\n",
    "## Or we can take input using string by using :\n",
    "## inData = json.loads(string)\n",
    "with open(\"input.json\",\"r\") as inFile:\n",
    "    inData = json.load(inFile)"
   ]
  },
  {
   "cell_type": "markdown",
   "metadata": {},
   "source": [
    "### Conversion Notation :\n",
    "We employ a system where each element of the powerset of states in NFA can be represented by just one unique integer in the DFA.\n",
    "\n",
    "The relation is :\n",
    "\n",
    "$$ \\{n_1 , n_2 , n_3,  ... \\} = \\sum_1 2^{n_i}  $$\n",
    "\n",
    "\n",
    "\n",
    "Example: \n",
    "\n",
    "\n",
    "\n",
    "The set $\\{0,1\\}$ will be represented as the state $2^0 + 2^1 = 3$ in DFA.\n",
    "\n",
    "\n",
    "\n",
    "\n",
    "Similary, the state  $3$ in NFA  will be represented as the state $2^3 = 8$ in the DFA generated."
   ]
  },
  {
   "cell_type": "markdown",
   "metadata": {},
   "source": [
    "The following two functions convert these from one domain to another.\n",
    "\n",
    "Example: \n",
    "\n",
    "\n",
    "conv converts from powerset to DFA state.\n",
    "\n",
    "\n",
    "and convR converts from DFA state to the powerset in NFA."
   ]
  },
  {
   "cell_type": "code",
   "execution_count": 4,
   "metadata": {},
   "outputs": [],
   "source": [
    "conv = lambda x : sum([2**i for i in x])\n",
    "convR = lambda x : [i for i in range(inData[\"states\"]) if x>>i&1]"
   ]
  },
  {
   "cell_type": "markdown",
   "metadata": {},
   "source": [
    "Initialising the DFA machine:"
   ]
  },
  {
   "cell_type": "code",
   "execution_count": 5,
   "metadata": {},
   "outputs": [],
   "source": [
    "outData = { }\n",
    "outData[\"states\"]=2**inData[\"states\"]\n",
    "outData[\"letters\"]=inData[\"letters\"]\n",
    "outData[\"start\"]=2**inData[\"start\"]\n",
    "outData[\"t_func\"]=[]"
   ]
  },
  {
   "cell_type": "markdown",
   "metadata": {},
   "source": [
    "**delta** function returns the states from NFA when a state and input letter is passed as argument."
   ]
  },
  {
   "cell_type": "code",
   "execution_count": 6,
   "metadata": {},
   "outputs": [],
   "source": [
    "def delta(state,letter):\n",
    "    outStates=[]\n",
    "    for i in inData[\"t_func\"]:\n",
    "        if i[0]==state and letter==i[1]:\n",
    "            outStates = i[2]\n",
    "    return outStates"
   ]
  },
  {
   "cell_type": "markdown",
   "metadata": {},
   "source": [
    "**resolveState** takes an input of a state in the domain of DFA and inserts all the elements of transition function in the DFA using the transition function of NFA and **taking their union** then converting them to the domain of DFA again."
   ]
  },
  {
   "cell_type": "code",
   "execution_count": 7,
   "metadata": {},
   "outputs": [],
   "source": [
    "def resolveState(st):\n",
    "    #Here st is in the space of states of DFA and not NFA.\n",
    "    #Hence we need to convert it in to the space of NFA before proceeding.\n",
    "    statesToResolve = convR(st)\n",
    "    \n",
    "    for letter in inData[\"letters\"]:\n",
    "        outStates=[]\n",
    "        for state in statesToResolve:\n",
    "            outStates = outStates + delta(state,letter)\n",
    "            \n",
    "            \n",
    "        outStates = conv(list(set(outStates)))\n",
    "        outData[\"t_func\"].append([st,letter,outStates])\n",
    "        \n",
    "        "
   ]
  },
  {
   "cell_type": "markdown",
   "metadata": {},
   "source": [
    "**resolveFinalStates** finds all the states in DFA domain which have the final states of NFA and includes them in the final state of DFA"
   ]
  },
  {
   "cell_type": "code",
   "execution_count": 8,
   "metadata": {},
   "outputs": [],
   "source": [
    "def resolveFinalStates():\n",
    "    outData[\"final\"]=[]\n",
    "    for f in inData[\"final\"]:\n",
    "        for state in range(outData[\"states\"]):\n",
    "            if state>>f&1 :\n",
    "                outData[\"final\"].append(state)"
   ]
  },
  {
   "cell_type": "markdown",
   "metadata": {},
   "source": [
    "Finally we are calling all the functions required to resolve the transition and final states:"
   ]
  },
  {
   "cell_type": "code",
   "execution_count": 9,
   "metadata": {},
   "outputs": [],
   "source": [
    "for state in range(outData[\"states\"]):\n",
    "    resolveState(state)\n",
    "resolveFinalStates();"
   ]
  },
  {
   "cell_type": "markdown",
   "metadata": {},
   "source": [
    "Writing it into an output file:\n"
   ]
  },
  {
   "cell_type": "code",
   "execution_count": 12,
   "metadata": {
    "scrolled": true
   },
   "outputs": [
    {
     "name": "stdout",
     "output_type": "stream",
     "text": [
      "{'states': 8, 'letters': ['a', 'b'], 'start': 1, 't_func': [[0, 'a', 0], [0, 'b', 0], [1, 'a', 3], [1, 'b', 1], [2, 'a', 0], [2, 'b', 4], [3, 'a', 3], [3, 'b', 5], [4, 'a', 0], [4, 'b', 0], [5, 'a', 3], [5, 'b', 1], [6, 'a', 0], [6, 'b', 4], [7, 'a', 3], [7, 'b', 5]], 'final': [4, 5, 6, 7]}\n"
     ]
    }
   ],
   "source": [
    "with open(\"output.json\",\"w\") as outFile:\n",
    "    json.dump(outData,outFile)\n",
    "    \n",
    "print(outData)"
   ]
  }
 ],
 "metadata": {
  "kernelspec": {
   "display_name": "Python 3",
   "language": "python",
   "name": "python3"
  },
  "language_info": {
   "codemirror_mode": {
    "name": "ipython",
    "version": 3
   },
   "file_extension": ".py",
   "mimetype": "text/x-python",
   "name": "python",
   "nbconvert_exporter": "python",
   "pygments_lexer": "ipython3",
   "version": "3.7.3"
  }
 },
 "nbformat": 4,
 "nbformat_minor": 2
}
